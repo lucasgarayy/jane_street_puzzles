{
 "cells": [
  {
   "cell_type": "code",
   "execution_count": 1,
   "id": "cd5be3e2",
   "metadata": {},
   "outputs": [],
   "source": [
    "import numpy as np\n",
    "import random"
   ]
  },
  {
   "cell_type": "code",
   "execution_count": 2,
   "id": "c10a3312",
   "metadata": {},
   "outputs": [],
   "source": [
    "class Car:\n",
    "    def __init__(self, x_0, v_0):\n",
    "        self.x = x_0\n",
    "        self.v = v_0\n",
    "        self.has_encounter = False\n",
    "\n",
    "    def normal_move(self, step):\n",
    "        self.x = self.x + step * self.v\n",
    "\n",
    "    def velocity(self):\n",
    "        return self.x\n",
    "\n",
    "class Road:\n",
    "    def __init__(self, a, z, N, T):\n",
    "        self.cars = self.generate_cars(z, N, T)\n",
    "        self.a = a\n",
    "        self.z = z\n",
    "        self.N = N\n",
    "        self.T = T\n",
    "    \n",
    "    def generate_cars(self, z, N, T):\n",
    "        num_cars = int(np.random.poisson(z * T))\n",
    "        return [Car(x_0 = random.randint(0, N), v_0 = random.randint(1, 2)) for _ in range(num_cars)]\n",
    "\n",
    "    def run_one_sim(self):\n",
    "        miles_not_driven = 0\n",
    "        for t in range(self.T):\n",
    "            for car in self.cars:\n",
    "                car.normal_move(step=1)\n",
    "\n",
    "            positions = {}\n",
    "            for car in self.cars:\n",
    "                pos = car.x\n",
    "                if pos in positions:\n",
    "                    positions[pos].append(car)\n",
    "                else:\n",
    "                    positions[pos] = [car]\n",
    "            \n",
    "            for colliding_cars in positions.values():\n",
    "                if len(colliding_cars) != 2:\n",
    "                    continue\n",
    "                car1 = colliding_cars[0]\n",
    "                car2 = colliding_cars[1]\n",
    "                miles_not_driven += self.miles_not_driven(car1.v, car2.v)\n",
    "                car1.has_encounter = True\n",
    "                car2.has_encounter = True\n",
    "        return miles_not_driven\n",
    "                \n",
    "    def miles_not_driven(self, c1, c2):\n",
    "        slow_car = min(c1, c2)\n",
    "        if (c1 > self.a and c2 <= self.a) or (c2 > self.a and c1 <= self.a):\n",
    "            return 0\n",
    "        if c1 <= self.a and c2 <= self.a:\n",
    "            decel_time_lost = slow_car \n",
    "            s = (slow_car * decel_time_lost - 0.5 * decel_time_lost**2) + (0 * decel_time_lost  + 0.5 * decel_time_lost**2)  \n",
    "            s_0 = slow_car * 2 * decel_time_lost\n",
    "\n",
    "        else:\n",
    "            delta_v = slow_car - self.a\n",
    "            t = delta_v  \n",
    "            s = slow_car * t - 0.5 * t**2 + self.a * t + 0.5 * t**2 \n",
    "            s_0 = slow_car * 2 * t \n",
    "        return s_0 - s\n",
    "    \n",
    "    def run_sims(self, nsims):\n",
    "        total_miles_not_driven = 0\n",
    "        for _ in range(nsims):\n",
    "            miles_not_driven_sim = self.run_one_sim()\n",
    "            total_miles_not_driven += miles_not_driven_sim\n",
    "        return total_miles_not_driven / nsims"
   ]
  },
  {
   "cell_type": "code",
   "execution_count": null,
   "id": "6d5d5896",
   "metadata": {},
   "outputs": [],
   "source": []
  },
  {
   "cell_type": "code",
   "execution_count": 4,
   "id": "e56b780a",
   "metadata": {},
   "outputs": [
    {
     "name": "stdout",
     "output_type": "stream",
     "text": [
      "1.0 value finished with 0.0 miles lost\n",
      "1.0101010101010102 value finished with 0.0 miles lost\n",
      "1.02020202020202 value finished with 0.0 miles lost\n"
     ]
    },
    {
     "ename": "KeyboardInterrupt",
     "evalue": "",
     "output_type": "error",
     "traceback": [
      "\u001b[1;31m---------------------------------------------------------------------------\u001b[0m",
      "\u001b[1;31mKeyboardInterrupt\u001b[0m                         Traceback (most recent call last)",
      "Cell \u001b[1;32mIn[4], line 9\u001b[0m\n\u001b[0;32m      7\u001b[0m \u001b[38;5;28;01mfor\u001b[39;00m a_i \u001b[38;5;129;01min\u001b[39;00m a:\n\u001b[0;32m      8\u001b[0m     road_ai \u001b[38;5;241m=\u001b[39m Road(a \u001b[38;5;241m=\u001b[39m a_i, z\u001b[38;5;241m=\u001b[39mz, N\u001b[38;5;241m=\u001b[39mN, T\u001b[38;5;241m=\u001b[39mT)\n\u001b[1;32m----> 9\u001b[0m     miles_lost_ai \u001b[38;5;241m=\u001b[39m \u001b[43mroad_ai\u001b[49m\u001b[38;5;241;43m.\u001b[39;49m\u001b[43mrun_sims\u001b[49m\u001b[43m(\u001b[49m\u001b[43mnsims\u001b[49m\u001b[38;5;241;43m=\u001b[39;49m\u001b[43mnsims\u001b[49m\u001b[43m)\u001b[49m\n\u001b[0;32m     10\u001b[0m     results[a_i] \u001b[38;5;241m=\u001b[39m miles_lost_ai\n\u001b[0;32m     11\u001b[0m     \u001b[38;5;28mprint\u001b[39m(\u001b[38;5;124mf\u001b[39m\u001b[38;5;124m'\u001b[39m\u001b[38;5;132;01m{\u001b[39;00ma_i\u001b[38;5;132;01m}\u001b[39;00m\u001b[38;5;124m value finished with \u001b[39m\u001b[38;5;132;01m{\u001b[39;00mmiles_lost_ai\u001b[38;5;132;01m}\u001b[39;00m\u001b[38;5;124m miles lost\u001b[39m\u001b[38;5;124m'\u001b[39m)\n",
      "Cell \u001b[1;32mIn[2], line 68\u001b[0m, in \u001b[0;36mRoad.run_sims\u001b[1;34m(self, nsims)\u001b[0m\n\u001b[0;32m     66\u001b[0m total_miles_not_driven \u001b[38;5;241m=\u001b[39m \u001b[38;5;241m0\u001b[39m\n\u001b[0;32m     67\u001b[0m \u001b[38;5;28;01mfor\u001b[39;00m _ \u001b[38;5;129;01min\u001b[39;00m \u001b[38;5;28mrange\u001b[39m(nsims):\n\u001b[1;32m---> 68\u001b[0m     miles_not_driven_sim \u001b[38;5;241m=\u001b[39m \u001b[38;5;28;43mself\u001b[39;49m\u001b[38;5;241;43m.\u001b[39;49m\u001b[43mrun_one_sim\u001b[49m\u001b[43m(\u001b[49m\u001b[43m)\u001b[49m\n\u001b[0;32m     69\u001b[0m     total_miles_not_driven \u001b[38;5;241m+\u001b[39m\u001b[38;5;241m=\u001b[39m miles_not_driven_sim\n\u001b[0;32m     70\u001b[0m \u001b[38;5;28;01mreturn\u001b[39;00m total_miles_not_driven \u001b[38;5;241m/\u001b[39m nsims\n",
      "Cell \u001b[1;32mIn[2], line 41\u001b[0m, in \u001b[0;36mRoad.run_one_sim\u001b[1;34m(self)\u001b[0m\n\u001b[0;32m     39\u001b[0m \u001b[38;5;28;01mfor\u001b[39;00m colliding_cars \u001b[38;5;129;01min\u001b[39;00m positions\u001b[38;5;241m.\u001b[39mvalues():\n\u001b[0;32m     40\u001b[0m     \u001b[38;5;28;01mif\u001b[39;00m \u001b[38;5;28mlen\u001b[39m(colliding_cars) \u001b[38;5;241m!=\u001b[39m \u001b[38;5;241m2\u001b[39m:\n\u001b[1;32m---> 41\u001b[0m         \u001b[38;5;28;01mcontinue\u001b[39;00m\n\u001b[0;32m     42\u001b[0m     car1 \u001b[38;5;241m=\u001b[39m colliding_cars[\u001b[38;5;241m0\u001b[39m]\n\u001b[0;32m     43\u001b[0m     car2 \u001b[38;5;241m=\u001b[39m colliding_cars[\u001b[38;5;241m1\u001b[39m]\n",
      "\u001b[1;31mKeyboardInterrupt\u001b[0m: "
     ]
    }
   ],
   "source": [
    "a = np.linspace(1, 2, 100)\n",
    "z = 0.001\n",
    "N = 10000\n",
    "T = 10000\n",
    "nsims = 100\n",
    "results = {}\n",
    "for a_i in a:\n",
    "    road_ai = Road(a = a_i, z=z, N=N, T=T)\n",
    "    miles_lost_ai = road_ai.run_sims(nsims=nsims)\n",
    "    results[a_i] = miles_lost_ai\n",
    "    print(f'{a_i} value finished with {miles_lost_ai} miles lost')"
   ]
  }
 ],
 "metadata": {
  "kernelspec": {
   "display_name": "Python 3",
   "language": "python",
   "name": "python3"
  },
  "language_info": {
   "codemirror_mode": {
    "name": "ipython",
    "version": 3
   },
   "file_extension": ".py",
   "mimetype": "text/x-python",
   "name": "python",
   "nbconvert_exporter": "python",
   "pygments_lexer": "ipython3",
   "version": "3.11.0"
  }
 },
 "nbformat": 4,
 "nbformat_minor": 5
}
